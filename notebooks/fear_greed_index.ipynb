{
 "cells": [
  {
   "cell_type": "markdown",
   "metadata": {},
   "source": [
    "# 贪婪和恐慌指数\n",
    "\n",
    "参考：https://gitlab.com/scofieldchen/cryptomodels/-/blob/main/analytics/fear_index.ipynb?ref_type=heads"
   ]
  },
  {
   "cell_type": "markdown",
   "metadata": {},
   "source": []
  }
 ],
 "metadata": {
  "kernelspec": {
   "display_name": ".venv",
   "language": "python",
   "name": "python3"
  },
  "language_info": {
   "name": "python",
   "version": "3.12.2"
  }
 },
 "nbformat": 4,
 "nbformat_minor": 2
}
