{
 "cells": [
  {
   "cell_type": "markdown",
   "metadata": {},
   "source": [
    "# 融资利率套利"
   ]
  },
  {
   "cell_type": "code",
   "execution_count": 2,
   "metadata": {},
   "outputs": [],
   "source": [
    "import os\n",
    "import sys\n",
    "import datetime as dt\n",
    "\n",
    "import ccxt\n",
    "import numpy as np\n",
    "import pandas as pd\n",
    "import matplotlib.pyplot as plt\n",
    "import seaborn as sns\n",
    "\n",
    "plt.style.use(\"ggplot\")\n",
    "\n",
    "sys.path.insert(0, \"/home/scofieldchen0011/quant-research\")\n",
    "\n",
    "from scripts.fetch_exchange_ohlcv import get_ohlcv\n",
    "from scripts.fetch_binance_funding_rates import fetch_funding_rates"
   ]
  },
  {
   "cell_type": "code",
   "execution_count": 15,
   "metadata": {},
   "outputs": [],
   "source": [
    "# 融资套利的货币对\n",
    "symbol = \"FTM/USDT\"\n",
    "# 现货交易所\n",
    "spot_exchange_id = \"binance\"\n",
    "# 合约交易所\n",
    "perp_exchange_id = \"binanceusdm\"\n",
    "# K线时间周期\n",
    "timeframe = \"4h\"\n",
    "# 开始日期\n",
    "start_date = dt.datetime(2020, 1, 1)\n",
    "# 结束日期\n",
    "end_date = dt.datetime(2024, 10, 30)\n",
    "# 存储数据的文件夹\n",
    "data_dir = \"/home/scofieldchen0011/quant-research/data/funding_arbitrage\"\n",
    "\n",
    "if not os.path.exists(data_dir):\n",
    "    os.makedirs(data_dir)"
   ]
  },
  {
   "cell_type": "code",
   "execution_count": 16,
   "metadata": {},
   "outputs": [
    {
     "name": "stdout",
     "output_type": "stream",
     "text": [
      "Downloaded spot data for FTM/USDT\n",
      "Downloaded perpetual data for FTM/USDT\n",
      "Downloaded funding rates for FTM/USDT\n"
     ]
    }
   ],
   "source": [
    "# 获取现货历史价格\n",
    "spot_exchange = getattr(ccxt, spot_exchange_id)()\n",
    "spot_ohlcv = get_ohlcv(spot_exchange, symbol, timeframe, start_date, end_date)\n",
    "print(f\"Downloaded spot data for {symbol}\")\n",
    "\n",
    "# 获取永续合约历史价格\n",
    "perp_exchange = getattr(ccxt, perp_exchange_id)()\n",
    "perp_ohlcv = get_ohlcv(perp_exchange, symbol, timeframe, start_date, end_date)\n",
    "print(f\"Downloaded perpetual data for {symbol}\")\n",
    "\n",
    "# 获取融资利率历史数据\n",
    "funding_rates = fetch_funding_rates(symbol.replace(\"/\", \"\"), start_date, end_date)\n",
    "print(f\"Downloaded funding rates for {symbol}\")"
   ]
  },
  {
   "cell_type": "code",
   "execution_count": 17,
   "metadata": {},
   "outputs": [],
   "source": [
    "# 将数据存储到本地csv，方便后续分析\n",
    "base_token = symbol.split(\"/\")[0].lower()\n",
    "spot_ohlcv.to_csv(\n",
    "    f\"{data_dir}/{spot_exchange_id}_{base_token}_{timeframe}.csv\", index=True\n",
    ")\n",
    "perp_ohlcv.to_csv(\n",
    "    f\"{data_dir}/{perp_exchange_id}_{base_token}_{timeframe}.csv\", index=True\n",
    ")\n",
    "funding_rates.to_csv(f\"{data_dir}/funding_rates_{base_token}.csv\", index=True)"
   ]
  },
  {
   "cell_type": "code",
   "execution_count": 41,
   "metadata": {},
   "outputs": [],
   "source": [
    "# 数据预处理\n",
    "\n",
    "# 合并现货和合约价格，仅保留开盘价和收盘价\n",
    "df_joined = pd.merge(\n",
    "    spot_ohlcv[[\"open\", \"close\"]],\n",
    "    perp_ohlcv[[\"open\", \"close\"]],\n",
    "    on=\"timestamp\",\n",
    "    suffixes=(\"_spot\", \"_perp\"),\n",
    ")\n",
    "\n",
    "# 合并融资利率\n",
    "# 融资利率的时间戳精确到毫秒且有时不为零，先将时间戳转化为妙\n",
    "funding_rates.index.name = \"timestamp\"\n",
    "funding_rates.index = funding_rates.index.floor(\"s\")\n",
    "df_joined = pd.merge(\n",
    "    df_joined, funding_rates[\"funding_rate\"], on=\"timestamp\", how=\"left\"\n",
    ")\n",
    "\n",
    "# 融资利率每8小时计算一次，缺失值用0填充\n",
    "df_joined[\"funding_rate\"] = df_joined[\"funding_rate\"].fillna(0)"
   ]
  },
  {
   "cell_type": "code",
   "execution_count": 52,
   "metadata": {},
   "outputs": [],
   "source": [
    "# 计算累计融资利率\n",
    "cumulative_days = 3\n",
    "df_joined[\"cumulative_funding\"] = (\n",
    "    df_joined[\"funding_rate\"].rolling(dt.timedelta(days=cumulative_days)).sum()\n",
    ")"
   ]
  },
  {
   "cell_type": "code",
   "execution_count": null,
   "metadata": {},
   "outputs": [],
   "source": []
  }
 ],
 "metadata": {
  "kernelspec": {
   "display_name": ".venv",
   "language": "python",
   "name": "python3"
  },
  "language_info": {
   "codemirror_mode": {
    "name": "ipython",
    "version": 3
   },
   "file_extension": ".py",
   "mimetype": "text/x-python",
   "name": "python",
   "nbconvert_exporter": "python",
   "pygments_lexer": "ipython3",
   "version": "3.12.2"
  }
 },
 "nbformat": 4,
 "nbformat_minor": 2
}
